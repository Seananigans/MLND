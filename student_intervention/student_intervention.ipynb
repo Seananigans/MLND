{
 "metadata": {
  "kernelspec": {
   "display_name": "Python 2",
   "language": "python",
   "name": "python2"
  },
  "language_info": {
   "codemirror_mode": {
    "name": "ipython",
    "version": 2
   },
   "file_extension": ".py",
   "mimetype": "text/x-python",
   "name": "python",
   "nbconvert_exporter": "python",
   "pygments_lexer": "ipython2",
   "version": "2.7.10"
  },
  "name": "",
  "signature": "sha256:796bd9f7cc146672afdfa85d2361f20e1084e2b318157166b82ff29e6c24c04f"
 },
 "nbformat": 3,
 "nbformat_minor": 0,
 "worksheets": [
  {
   "cells": [
    {
     "cell_type": "markdown",
     "metadata": {},
     "source": [
      "# Project 2: Supervised Learning\n",
      "### Building a Student Intervention System"
     ]
    },
    {
     "cell_type": "markdown",
     "metadata": {},
     "source": [
      "## 1. Classification vs Regression\n",
      "\n",
      "Your goal is to identify students who might need early intervention - which type of supervised machine learning problem is this, classification or regression? Why?"
     ]
    },
    {
     "cell_type": "markdown",
     "metadata": {},
     "source": [
      "## 2. Exploring the Data\n",
      "\n",
      "Let's go ahead and read in the student dataset first.\n",
      "\n",
      "_To execute a code cell, click inside it and press **Shift+Enter**._"
     ]
    },
    {
     "cell_type": "code",
     "collapsed": false,
     "input": [
      "# Import libraries\n",
      "import matplotlib.pyplot as plt\n",
      "import numpy as np\n",
      "import pandas as pd\n",
      "from sklearn import cross_validation\n",
      "from sklearn import grid_search\n",
      "from sklearn import metrics"
     ],
     "language": "python",
     "metadata": {},
     "outputs": [],
     "prompt_number": 313
    },
    {
     "cell_type": "code",
     "collapsed": false,
     "input": [
      "# Read student data\n",
      "student_data = pd.read_csv(\"student-data.csv\")\n",
      "print \"Student data read successfully!\"\n",
      "# Note: The last column 'passed' is the target/label, all other are feature columns"
     ],
     "language": "python",
     "metadata": {},
     "outputs": [
      {
       "output_type": "stream",
       "stream": "stdout",
       "text": [
        "Student data read successfully!\n"
       ]
      }
     ],
     "prompt_number": 314
    },
    {
     "cell_type": "markdown",
     "metadata": {},
     "source": [
      "Now, can you find out the following facts about the dataset?\n",
      "- Total number of students\n",
      "- Number of students who passed\n",
      "- Number of students who failed\n",
      "- Graduation rate of the class (%)\n",
      "- Number of features\n",
      "\n",
      "_Use the code block below to compute these values. Instructions/steps are marked using **TODO**s._"
     ]
    },
    {
     "cell_type": "code",
     "collapsed": false,
     "input": [
      "print sum(student_data.passed=='yes')"
     ],
     "language": "python",
     "metadata": {},
     "outputs": [
      {
       "output_type": "stream",
       "stream": "stdout",
       "text": [
        "265\n"
       ]
      }
     ],
     "prompt_number": 315
    },
    {
     "cell_type": "code",
     "collapsed": false,
     "input": [
      "# TODO: Compute desired values - replace each '?' with an appropriate expression/function call\n",
      "n_students = student_data.shape[0]\n",
      "n_features = student_data.shape[1]-1\n",
      "n_passed = sum(student_data.passed=='yes')\n",
      "n_failed = n_students-n_passed\n",
      "grad_rate = n_passed*100.0/n_students\n",
      "print \"Total number of students: {}\".format(n_students)\n",
      "print \"Number of students who passed: {}\".format(n_passed)\n",
      "print \"Number of students who failed: {}\".format(n_failed)\n",
      "print \"Number of features: {}\".format(n_features)\n",
      "print \"Graduation rate of the class: {:.2f}%\".format(grad_rate)"
     ],
     "language": "python",
     "metadata": {},
     "outputs": [
      {
       "output_type": "stream",
       "stream": "stdout",
       "text": [
        "Total number of students: 395\n",
        "Number of students who passed: 265\n",
        "Number of students who failed: 130\n",
        "Number of features: 30\n",
        "Graduation rate of the class: 67.09%\n"
       ]
      }
     ],
     "prompt_number": 333
    },
    {
     "cell_type": "markdown",
     "metadata": {},
     "source": [
      "## 3. Preparing the Data\n",
      "In this section, we will prepare the data for modeling, training and testing.\n",
      "\n",
      "### Identify feature and target columns\n",
      "It is often the case that the data you obtain contains non-numeric features. This can be a problem, as most machine learning algorithms expect numeric data to perform computations with.\n",
      "\n",
      "Let's first separate our data into feature and target columns, and see if any features are non-numeric.<br/>\n",
      "**Note**: For this dataset, the last column (`'passed'`) is the target or label we are trying to predict."
     ]
    },
    {
     "cell_type": "code",
     "collapsed": false,
     "input": [
      "# Extract feature (X) and target (y) columns\n",
      "feature_cols = list(student_data.columns[:-1])  # all columns but last are features\n",
      "target_col = student_data.columns[-1]  # last column is the target/label\n",
      "print \"Feature column(s):-\\n{}\".format(feature_cols)\n",
      "print \"Target column: {}\".format(target_col)\n",
      "\n",
      "X_all = student_data[feature_cols]  # feature values for all students\n",
      "y_all = student_data[target_col]  # corresponding targets/labels\n",
      "print \"\\nFeature values:-\"\n",
      "print X_all.head()  # print the first 5 rows"
     ],
     "language": "python",
     "metadata": {},
     "outputs": [
      {
       "output_type": "stream",
       "stream": "stdout",
       "text": [
        "Feature column(s):-\n",
        "['school', 'sex', 'age', 'address', 'famsize', 'Pstatus', 'Medu', 'Fedu', 'Mjob', 'Fjob', 'reason', 'guardian', 'traveltime', 'studytime', 'failures', 'schoolsup', 'famsup', 'paid', 'activities', 'nursery', 'higher', 'internet', 'romantic', 'famrel', 'freetime', 'goout', 'Dalc', 'Walc', 'health', 'absences']\n",
        "Target column: passed\n",
        "\n",
        "Feature values:-\n",
        "  school sex  age address famsize Pstatus  Medu  Fedu     Mjob      Fjob  \\\n",
        "0     GP   F   18       U     GT3       A     4     4  at_home   teacher   \n",
        "1     GP   F   17       U     GT3       T     1     1  at_home     other   \n",
        "2     GP   F   15       U     LE3       T     1     1  at_home     other   \n",
        "3     GP   F   15       U     GT3       T     4     2   health  services   \n",
        "4     GP   F   16       U     GT3       T     3     3    other     other   \n",
        "\n",
        "    ...    higher internet  romantic  famrel  freetime goout Dalc Walc health  \\\n",
        "0   ...       yes       no        no       4         3     4    1    1      3   \n",
        "1   ...       yes      yes        no       5         3     3    1    1      3   \n",
        "2   ...       yes      yes        no       4         3     2    2    3      3   \n",
        "3   ...       yes      yes       yes       3         2     2    1    1      5   \n",
        "4   ...       yes       no        no       4         3     2    1    2      5   \n",
        "\n",
        "  absences  \n",
        "0        6  \n",
        "1        4  \n",
        "2       10  \n",
        "3        2  \n",
        "4        4  \n",
        "\n",
        "[5 rows x 30 columns]\n"
       ]
      }
     ],
     "prompt_number": 317
    },
    {
     "cell_type": "markdown",
     "metadata": {},
     "source": [
      "### Preprocess feature columns\n",
      "\n",
      "As you can see, there are several non-numeric columns that need to be converted! Many of them are simply `yes`/`no`, e.g. `internet`. These can be reasonably converted into `1`/`0` (binary) values.\n",
      "\n",
      "Other columns, like `Mjob` and `Fjob`, have more than two values, and are known as _categorical variables_. The recommended way to handle such a column is to create as many columns as possible values (e.g. `Fjob_teacher`, `Fjob_other`, `Fjob_services`, etc.), and assign a `1` to one of them and `0` to all others.\n",
      "\n",
      "These generated columns are sometimes called _dummy variables_, and we will use the [`pandas.get_dummies()`](http://pandas.pydata.org/pandas-docs/stable/generated/pandas.get_dummies.html?highlight=get_dummies#pandas.get_dummies) function to perform this transformation."
     ]
    },
    {
     "cell_type": "code",
     "collapsed": false,
     "input": [
      "# Preprocess feature columns\n",
      "def preprocess_features(X):\n",
      "    outX = pd.DataFrame(index=X.index)  # output dataframe, initially empty\n",
      "\n",
      "    # Check each column\n",
      "    for col, col_data in X.iteritems():\n",
      "        # If data type is non-numeric, try to replace all yes/no values with 1/0\n",
      "        if col_data.dtype == object:\n",
      "            col_data = col_data.replace(['yes', 'no'], [1, 0])\n",
      "        # Note: This should change the data type for yes/no columns to int\n",
      "\n",
      "        # If still non-numeric, convert to one or more dummy variables\n",
      "        if col_data.dtype == object:\n",
      "            col_data = pd.get_dummies(col_data, prefix=col)  # e.g. 'school' => 'school_GP', 'school_MS'\n",
      "\n",
      "        outX = outX.join(col_data)  # collect column(s) in output dataframe\n",
      "\n",
      "    return outX\n",
      "\n",
      "X_all = preprocess_features(X_all)\n",
      "print \"Processed feature columns ({}):-\\n{}\".format(len(X_all.columns), list(X_all.columns))"
     ],
     "language": "python",
     "metadata": {},
     "outputs": [
      {
       "output_type": "stream",
       "stream": "stdout",
       "text": [
        "Processed feature columns (48):-\n",
        "['school_GP', 'school_MS', 'sex_F', 'sex_M', 'age', 'address_R', 'address_U', 'famsize_GT3', 'famsize_LE3', 'Pstatus_A', 'Pstatus_T', 'Medu', 'Fedu', 'Mjob_at_home', 'Mjob_health', 'Mjob_other', 'Mjob_services', 'Mjob_teacher', 'Fjob_at_home', 'Fjob_health', 'Fjob_other', 'Fjob_services', 'Fjob_teacher', 'reason_course', 'reason_home', 'reason_other', 'reason_reputation', 'guardian_father', 'guardian_mother', 'guardian_other', 'traveltime', 'studytime', 'failures', 'schoolsup', 'famsup', 'paid', 'activities', 'nursery', 'higher', 'internet', 'romantic', 'famrel', 'freetime', 'goout', 'Dalc', 'Walc', 'health', 'absences']\n"
       ]
      }
     ],
     "prompt_number": 318
    },
    {
     "cell_type": "markdown",
     "metadata": {},
     "source": [
      "### Split data into training and test sets\n",
      "\n",
      "So far, we have converted all _categorical_ features into numeric values. In this next step, we split the data (both features and corresponding labels) into training and test sets."
     ]
    },
    {
     "cell_type": "code",
     "collapsed": false,
     "input": [
      "# First, decide how many training vs test samples you want\n",
      "num_all = student_data.shape[0]  # same as len(student_data)\n",
      "num_train = 300  # about 75% of the data\n",
      "num_test = num_all - num_train\n",
      "\n",
      "# TODO: Then, select features (X) and corresponding labels (y) for the training and test sets\n",
      "# Note: Shuffle the data or randomly select samples to avoid any bias due to ordering in the dataset\n",
      "X_train, X_test, y_train, y_test = cross_validation.train_test_split(X_all, y_all, test_size = num_test)#, random_state = 0)\n",
      "\n",
      "print \"Training set: {} samples\".format(X_train.shape[0])\n",
      "print \"Test set: {} samples\".format(X_test.shape[0])\n",
      "# Note: If you need a validation set, extract it from within training data"
     ],
     "language": "python",
     "metadata": {},
     "outputs": [
      {
       "output_type": "stream",
       "stream": "stdout",
       "text": [
        "Training set: 300 samples\n",
        "Test set: 95 samples\n"
       ]
      }
     ],
     "prompt_number": 319
    },
    {
     "cell_type": "markdown",
     "metadata": {},
     "source": [
      "## 4. Training and Evaluating Models\n",
      "Choose 3 supervised learning models that are available in scikit-learn, and appropriate for this problem. For each model:\n",
      "\n",
      "- What are the general applications of this model? What are its strengths and weaknesses?\n",
      "- Given what you know about the data so far, why did you choose this model to apply?\n",
      "- Fit this model to the training data, try to predict labels (for both training and test sets), and measure the F<sub>1</sub> score. Repeat this process with different training set sizes (100, 200, 300), keeping test set constant.\n",
      "\n",
      "Produce a table showing training time, prediction time, F<sub>1</sub> score on training set and F<sub>1</sub> score on test set, for each training set size.\n",
      "\n",
      "Note: You need to produce 3 such tables - one for each model.\n",
      "### First: SVM- Support Vector Machine\n",
      "-\tWhat are the general applications of this model? \n",
      "    *\tClassification.\n",
      "-\tWhat are its strengths and weaknesses?\t\n",
      "    *\tStrengths:\n",
      "        *\tSolution to SVMs are global and do not suffer from local minima.\n",
      "        *\tSince SVM\u2019s are based only on a subset of the training observations, it can be quite robust to observations that lie far away from the separating hyperplane.\n",
      "        *\tWhen classes are well separated, SVMs perform better than logistic regression, and vice versa.\n",
      "    *\tWeaknesses:\n",
      "        *\tTime Complexity: \n",
      "            *\tO(n2) according to Scikit Learn SVC documentation. \n",
      "            *\tAccording to research O(n2) for linear kernel.\n",
      "            *\tAccording to research O(n3) for RBF. \n",
      "            *\tThe n is the number of observations.\n",
      "        *\tSpace Complexity:\n",
      "            *\tO(1).\n",
      "        *\tThe parameters of the model are difficult to interpret.\n",
      "        *\tThe probabilities for class membership are uncalibrated, contributing to the lack of interpretability.\n",
      "        *\tThere are a large amount of parameters to optimize, and, thus, can take a long time top optimize.\n",
      "        *\tDue to their flexibility, kernel models are very sensitive to overfitting.\n",
      "-\tGiven what you know about the data so far, why did you choose this model to apply?\n",
      "    *\tSVMs are purported as excellent out of the box classifiers, meaning they are generally robust and perform well on a variety of data.\n"
     ]
    },
    {
     "cell_type": "code",
     "collapsed": false,
     "input": [
      "# Train a model\n",
      "import time\n",
      "\n",
      "def train_classifier(clf, X_train, y_train):\n",
      "    print \"Training {}...\".format(clf.__class__.__name__)\n",
      "    start = time.time()\n",
      "    clf.fit(X_train, y_train)\n",
      "    end = time.time()\n",
      "    print \"Done!\\nTraining time (secs): {:.3f}\".format(end - start)\n",
      "    return end - start\n",
      "\n",
      "# TODO: Choose a model, import it and instantiate an object\n",
      "from sklearn.svm import SVC\n",
      "clf100 = SVC()\n",
      "clf200 = SVC()\n",
      "clf300 = SVC()\n",
      "\n",
      "# Fit model to training data\n",
      "train_time100 = train_classifier(clf100, X_train[:100], y_train[:100])\n",
      "train_time200 = train_classifier(clf200, X_train[:200], y_train[:200])\n",
      "train_time300 = train_classifier(clf300, X_train, y_train)"
     ],
     "language": "python",
     "metadata": {},
     "outputs": [
      {
       "output_type": "stream",
       "stream": "stdout",
       "text": [
        "Training SVC...\n",
        "Done!\n",
        "Training time (secs): 0.013\n",
        "Training SVC...\n",
        "Done!\n",
        "Training time (secs): 0.006\n",
        "Training SVC...\n",
        "Done!\n",
        "Training time (secs): 0.033"
       ]
      },
      {
       "output_type": "stream",
       "stream": "stdout",
       "text": [
        "\n"
       ]
      }
     ],
     "prompt_number": 320
    },
    {
     "cell_type": "code",
     "collapsed": false,
     "input": [
      "# Predict on training set and compute F1 score\n",
      "from sklearn.metrics import f1_score\n",
      "\n",
      "def predict_labels(clf, features, target):\n",
      "    print \"Predicting labels using {}...\".format(clf.__class__.__name__)\n",
      "    start = time.time()\n",
      "    y_pred = clf.predict(features)\n",
      "    end = time.time()\n",
      "    print \"Done!\\nPrediction time (secs): {:.3f}\".format(end - start)\n",
      "    return f1_score(target.values, y_pred, pos_label='yes'), end - start\n",
      "\n",
      "train_f1_score100, dummy = predict_labels(clf100, X_train[:100], y_train[:100])\n",
      "print \"F1 score for training set: {}\".format(train_f1_score100)\n",
      "train_f1_score200, dummy = predict_labels(clf200, X_train[:200], y_train[:200])\n",
      "print \"F1 score for training set: {}\".format(train_f1_score200)\n",
      "train_f1_score300, dummy = predict_labels(clf300, X_train, y_train)\n",
      "print \"F1 score for training set: {}\".format(train_f1_score300)"
     ],
     "language": "python",
     "metadata": {},
     "outputs": [
      {
       "output_type": "stream",
       "stream": "stdout",
       "text": [
        "Predicting labels using SVC...\n",
        "Done!\n",
        "Prediction time (secs): 0.002\n",
        "F1 score for training set: 0.886075949367\n",
        "Predicting labels using SVC...\n",
        "Done!\n",
        "Prediction time (secs): 0.004\n",
        "F1 score for training set: 0.857142857143\n",
        "Predicting labels using SVC...\n",
        "Done!\n",
        "Prediction time (secs): 0.013\n",
        "F1 score for training set: 0.868965517241\n"
       ]
      }
     ],
     "prompt_number": 321
    },
    {
     "cell_type": "code",
     "collapsed": false,
     "input": [
      "# Predict on test data\n",
      "test_f1_score100, pred_test_time100 = predict_labels(clf100, X_test, y_test)\n",
      "print \"F1 score for test set: {}\".format(test_f1_score100)\n",
      "test_f1_score200, pred_test_time200 = predict_labels(clf200, X_test, y_test)\n",
      "print \"F1 score for test set: {}\".format(test_f1_score200)\n",
      "test_f1_score300, pred_test_time300 = predict_labels(clf300, X_test, y_test)\n",
      "print \"F1 score for test set: {}\".format(test_f1_score300)\n"
     ],
     "language": "python",
     "metadata": {},
     "outputs": [
      {
       "output_type": "stream",
       "stream": "stdout",
       "text": [
        "Predicting labels using SVC...\n",
        "Done!\n",
        "Prediction time (secs): 0.002\n",
        "F1 score for test set: 0.874251497006\n",
        "Predicting labels using SVC...\n",
        "Done!\n",
        "Prediction time (secs): 0.003\n",
        "F1 score for test set: 0.865853658537\n",
        "Predicting labels using SVC...\n",
        "Done!\n",
        "Prediction time (secs): 0.003\n",
        "F1 score for test set: 0.844720496894\n"
       ]
      }
     ],
     "prompt_number": 322
    },
    {
     "cell_type": "code",
     "collapsed": false,
     "input": [
      "arr = np.array([[train_time100,train_time200,train_time300],\n",
      "                [pred_test_time100,pred_test_time200,pred_test_time300],\n",
      "                [train_f1_score100,train_f1_score200, train_f1_score300],\n",
      "                [test_f1_score100,test_f1_score200, test_f1_score300]])\n",
      "df_svc = pd.DataFrame(arr, \n",
      "             index = ['Training Time (secs)','Prediction Time (secs)','F1 Score for Training Set','F1 Score for Test Set'], \n",
      "             columns = [\"100\",\"200\",\"300\"])\n",
      "df_svc.columns = pd.MultiIndex.from_tuples(zip([' '*15,'Training Set Size',' '*15], df_svc.columns))\n",
      "df_svc.index.name = \"*Support Vec. Classifier*\""
     ],
     "language": "python",
     "metadata": {},
     "outputs": [],
     "prompt_number": 323
    },
    {
     "cell_type": "code",
     "collapsed": false,
     "input": [
      "# Train and predict using different training set sizes\n",
      "def train_predict(clf, X_train, y_train, X_test, y_test):\n",
      "    print \"------------------------------------------\"\n",
      "    print \"Training set size: {}\".format(len(X_train))\n",
      "    train_time = train_classifier(clf, X_train, y_train)\n",
      "    train_f1_score, dummy = predict_labels(clf, X_train, y_train)\n",
      "    print \"F1 score for training set: {}\".format(train_f1_score)\n",
      "    test_f1_score, pred_test_time = predict_labels(clf, X_test, y_test)\n",
      "    print \"F1 score for test set: {}\".format(test_f1_score)\n",
      "    return train_time, pred_test_time, train_f1_score, test_f1_score\n",
      "\n",
      "# TODO: Run the helper function above for desired subsets of training data\n",
      "# Note: Keep the test set constant\n"
     ],
     "language": "python",
     "metadata": {},
     "outputs": [],
     "prompt_number": 324
    },
    {
     "cell_type": "markdown",
     "metadata": {},
     "source": [
      "### Second: AdaBoost- Adaptive Boosting\n",
      "-\tGeneral Application:\n",
      "    *\t Classification. AdaBoost is a boosting algorithm that uses \u2018weak learners\u2019 (other machine learning algorithms that will perform even slightly better than random classification) to classify data.\n",
      "    *\tIt works by creating a new vector/column with equal weights for every training example and normalizing the weights. Then it iteratively classifies the data in the training set using the weak learner, determines which examples it got wrong, gives those examples higher weights, and finally renormalizes the weights so that they sum to one. This process will continue until the specified number of estimators has been reached, or classification error has reached zero.\n",
      "-\tWhat are its strengths and weaknesses?\t\n",
      "    *\tStrengths:\n",
      "        *\tPerforms well.\n",
      "        *\tIn this circumstance of using decision trees, we can stave off overfitting by using a shallower depth than would be used for a single decision tree.\n",
      "        *\t AdaBoost generally works well on both training and test sets.\n",
      "        *\t It is widely held as one of the top performing meta-algorithms in machine learning.\n",
      "    *\tWeaknesses:\n",
      "        *\tTime Complexity:\n",
      "            *\tO(Nweak learners*O()weak learner)\n",
      "                *\tDecision Tree O(n*depth)\n",
      "        *\tSpace Complexity:\n",
      "            *\tO(Nweak learners*O()weak learner)\n",
      "                *\tDecision Tree O(n*depth) \n",
      "        *\tLearns slowly.\n",
      "        *\tCan overfit if the number of estimators is too large.\n",
      "        *\tStoring multiple decision trees and alpha values.\n",
      "        *\tIt can overfit data if the data is not \u2018well-behaved\u2019 aka if it is uniformly random. \n",
      "        *\tBoosting algorithms normally have a lot of parameters to tune in order to get the best model.\n",
      "-\tGiven what you know about the data so far, why did you choose this model to apply?\n",
      "    *\tAdaBoost is a robust algorithm that works very well in classification tasks. Given that the data set is small, and the learning speed of the AdaBoost algorithm, I thought it would be appropriate to still use a highly accurate model."
     ]
    },
    {
     "cell_type": "code",
     "collapsed": false,
     "input": [
      "# TODO: Train and predict using two other models\n",
      "from sklearn.ensemble import AdaBoostClassifier\n",
      "clf100 = AdaBoostClassifier()\n",
      "clf200 = AdaBoostClassifier()\n",
      "clf300 = AdaBoostClassifier()\n",
      "\n",
      "train_time100, pred_test_time100, train_f1_score100, test_f1_score100 = \\\n",
      "train_predict(clf100, X_train[:100], y_train[:100], X_test, y_test)\n",
      "\n",
      "train_time200, pred_test_time200, train_f1_score200, test_f1_score200 = \\\n",
      "train_predict(clf200, X_train[:200], y_train[:200], X_test, y_test)\n",
      "\n",
      "train_time300, pred_test_time300, train_f1_score300, test_f1_score300 = \\\n",
      "train_predict(clf300, X_train, y_train, X_test, y_test)"
     ],
     "language": "python",
     "metadata": {},
     "outputs": [
      {
       "output_type": "stream",
       "stream": "stdout",
       "text": [
        "------------------------------------------\n",
        "Training set size: 100\n",
        "Training AdaBoostClassifier...\n",
        "Done!\n",
        "Training time (secs): 0.503"
       ]
      },
      {
       "output_type": "stream",
       "stream": "stdout",
       "text": [
        "\n",
        "Predicting labels using AdaBoostClassifier...\n",
        "Done!\n",
        "Prediction time (secs): 0.026\n",
        "F1 score for training set: 0.992907801418\n",
        "Predicting labels using AdaBoostClassifier...\n",
        "Done!\n",
        "Prediction time (secs): 0.022\n",
        "F1 score for test set: 0.760563380282"
       ]
      },
      {
       "output_type": "stream",
       "stream": "stdout",
       "text": [
        "\n",
        "------------------------------------------\n",
        "Training set size: 200\n",
        "Training AdaBoostClassifier...\n",
        "Done!\n",
        "Training time (secs): 0.343"
       ]
      },
      {
       "output_type": "stream",
       "stream": "stdout",
       "text": [
        "\n",
        "Predicting labels using AdaBoostClassifier...\n",
        "Done!\n",
        "Prediction time (secs): 0.022\n",
        "F1 score for training set: 0.86231884058\n",
        "Predicting labels using AdaBoostClassifier...\n",
        "Done!\n",
        "Prediction time (secs): 0.024\n",
        "F1 score for test set: 0.813793103448\n",
        "------------------------------------------\n",
        "Training set size: 300\n",
        "Training AdaBoostClassifier...\n",
        "Done!\n",
        "Training time (secs): 0.624"
       ]
      },
      {
       "output_type": "stream",
       "stream": "stdout",
       "text": [
        "\n",
        "Predicting labels using AdaBoostClassifier...\n",
        "Done!\n",
        "Prediction time (secs): 0.066"
       ]
      },
      {
       "output_type": "stream",
       "stream": "stdout",
       "text": [
        "\n",
        "F1 score for training set: 0.850746268657\n",
        "Predicting labels using AdaBoostClassifier...\n",
        "Done!\n",
        "Prediction time (secs): 0.016\n",
        "F1 score for test set: 0.780821917808\n"
       ]
      }
     ],
     "prompt_number": 325
    },
    {
     "cell_type": "code",
     "collapsed": false,
     "input": [
      "arr = np.array([[train_time100,train_time200,train_time300],\n",
      "                [pred_test_time100,pred_test_time200,pred_test_time300],\n",
      "                [train_f1_score100,train_f1_score200, train_f1_score300],\n",
      "                [test_f1_score100,test_f1_score200, test_f1_score300]])\n",
      "df_adaboost = pd.DataFrame(arr, \n",
      "             index = ['Training Time (secs)','Prediction Time (secs)','F1 Score for Training Set','F1 Score for Test Set'], \n",
      "             columns = [\"100\",\"200\",\"300\"])\n",
      "df_adaboost.columns = pd.MultiIndex.from_tuples(zip([' '*15,'Training Set Size',' '*15], df_adaboost.columns))\n",
      "df_adaboost.index.name = \"*AdaBoost Classifier*\""
     ],
     "language": "python",
     "metadata": {},
     "outputs": [],
     "prompt_number": 326
    },
    {
     "cell_type": "markdown",
     "metadata": {},
     "source": [
      "### Third: Logistic Regression\n",
      "-\tWhat are the general applications of this model? \n",
      "    *\tClassification.\n",
      "    *\tLogistic regression is recommended as one of the first machine learning algorithms to use when addressing a classification task. It is a simple linear model and can be extended and penalized in a variety of ways.\n",
      "-\tWhat are its strengths and weaknesses?\n",
      "    *\tStrengths:\n",
      "        *\tTime Complexity:\n",
      "            *\tCan be as little as O(d) where d is the number of dimensions.\n",
      "        *\tSpace Complexity:\n",
      "            *\tO(1) because you simply store an equation.\n",
      "        *\tResults are very interpretable as the probability of a certain class.\n",
      "        *\tThe importance of individual features can be interpreted from the coefficients applied to them in the final model.\n",
      "        *\tIt is also pretty robust to noise and you can avoid overfitting and even do feature selection by using l2 or l1 regularization.\n",
      "        *\tNot rigidly tied to feature independence assumption like that of Na\u00efve Bayes.\n",
      "    *\tWeaknesses:\n",
      "        *\tSimply applied Logistic Regression does not take into consideration that some features may be correlated with others, which reduces the meaningfulness of coefficients. This reduces redundancy in its coefficients but can also ignore confounding features.\n",
      "        *\tMay not work as well as other learning algorithms for multi-class classification.\n",
      "        *\tDoes not work as well as SVMs when classes are well-separated. The coefficients may be unstable.\n",
      "-\tGiven what you know about the data so far, why did you choose this model to apply?\n",
      "    *\tThis model generally works about the same as an SVM but with the added benefit of an interpretable model. While this model does not inherently have the flexibility of an SVM with a kernel, it is still robust to observations that lie far away from its linear decision boundary.\n"
     ]
    },
    {
     "cell_type": "code",
     "collapsed": false,
     "input": [
      "# TODO: Train and predict using two other models\n",
      "from sklearn.linear_model import LogisticRegression\n",
      "clf100 = LogisticRegression()\n",
      "clf200 = LogisticRegression()\n",
      "clf300 = LogisticRegression()\n",
      "train_time100, pred_test_time100, train_f1_score100, test_f1_score100 = \\\n",
      "train_predict(clf100, X_train[:100], y_train[:100], X_test, y_test)\n",
      "\n",
      "train_time200, pred_test_time200, train_f1_score200, test_f1_score200 = \\\n",
      "train_predict(clf200, X_train[:200], y_train[:200], X_test, y_test)\n",
      "\n",
      "train_time300, pred_test_time300, train_f1_score300, test_f1_score300 = \\\n",
      "train_predict(clf300, X_train, y_train, X_test, y_test)"
     ],
     "language": "python",
     "metadata": {},
     "outputs": [
      {
       "output_type": "stream",
       "stream": "stdout",
       "text": [
        "------------------------------------------\n",
        "Training set size: 100\n",
        "Training LogisticRegression...\n",
        "Done!\n",
        "Training time (secs): 0.002\n",
        "Predicting labels using LogisticRegression...\n",
        "Done!\n",
        "Prediction time (secs): 0.000\n",
        "F1 score for training set: 0.905405405405\n",
        "Predicting labels using LogisticRegression...\n",
        "Done!\n",
        "Prediction time (secs): 0.000\n",
        "F1 score for test set: 0.744525547445\n",
        "------------------------------------------\n",
        "Training set size: 200\n",
        "Training LogisticRegression...\n",
        "Done!\n",
        "Training time (secs): 0.024\n",
        "Predicting labels using LogisticRegression...\n",
        "Done!\n",
        "Prediction time (secs): 0.000\n",
        "F1 score for training set: 0.836236933798\n",
        "Predicting labels using LogisticRegression...\n",
        "Done!\n",
        "Prediction time (secs): 0.000\n",
        "F1 score for test set: 0.82119205298\n",
        "------------------------------------------\n",
        "Training set size: 300\n",
        "Training LogisticRegression...\n",
        "Done!\n",
        "Training time (secs): 0.026"
       ]
      },
      {
       "output_type": "stream",
       "stream": "stdout",
       "text": [
        "\n",
        "Predicting labels using LogisticRegression...\n",
        "Done!\n",
        "Prediction time (secs): 0.001\n",
        "F1 score for training set: 0.815533980583\n",
        "Predicting labels using LogisticRegression...\n",
        "Done!\n",
        "Prediction time (secs): 0.000\n",
        "F1 score for test set: 0.794520547945\n"
       ]
      }
     ],
     "prompt_number": 327
    },
    {
     "cell_type": "code",
     "collapsed": false,
     "input": [
      "arr = np.array([[train_time100,train_time200,train_time300],\n",
      "                [pred_test_time100,pred_test_time200,pred_test_time300],\n",
      "                [train_f1_score100,train_f1_score200, train_f1_score300],\n",
      "                [test_f1_score100,test_f1_score200, test_f1_score300]])\n",
      "df_logit = pd.DataFrame(arr, \n",
      "             index = ['Training Time (secs)','Prediction Time (secs)','F1 Score for Training Set','F1 Score for Test Set'], \n",
      "             columns = [\"100\",\"200\",\"300\"])\n",
      "df_logit.columns = pd.MultiIndex.from_tuples(zip([' '*15,'Training Set Size',' '*15], df_logit.columns))\n",
      "df_logit.index.name = \"*Log. Reg. Classifier*\""
     ],
     "language": "python",
     "metadata": {},
     "outputs": [],
     "prompt_number": 328
    },
    {
     "cell_type": "code",
     "collapsed": false,
     "input": [
      "print df_svc\n",
      "print df_adaboost\n",
      "print df_logit"
     ],
     "language": "python",
     "metadata": {},
     "outputs": [
      {
       "output_type": "stream",
       "stream": "stdout",
       "text": [
        "                                          Training Set Size                \n",
        "                                      100               200             300\n",
        "*Support Vec. Classifier*                                                  \n",
        "Training Time (secs)             0.013216          0.005578        0.032964\n",
        "Prediction Time (secs)           0.001935          0.003049        0.002975\n",
        "F1 Score for Training Set        0.886076          0.857143        0.868966\n",
        "F1 Score for Test Set            0.874251          0.865854        0.844720\n",
        "                                          Training Set Size                \n",
        "                                      100               200             300\n",
        "*AdaBoost Classifier*                                                      \n",
        "Training Time (secs)             0.503293          0.343045        0.624276\n",
        "Prediction Time (secs)           0.021856          0.023981        0.015616\n",
        "F1 Score for Training Set        0.992908          0.862319        0.850746\n",
        "F1 Score for Test Set            0.760563          0.813793        0.780822\n",
        "                                          Training Set Size                \n",
        "                                      100               200             300\n",
        "*Log. Reg. Classifier*                                                     \n",
        "Training Time (secs)             0.002251          0.024206        0.025705\n",
        "Prediction Time (secs)           0.000290          0.000296        0.000372\n",
        "F1 Score for Training Set        0.905405          0.836237        0.815534\n",
        "F1 Score for Test Set            0.744526          0.821192        0.794521\n"
       ]
      }
     ],
     "prompt_number": 329
    },
    {
     "cell_type": "markdown",
     "metadata": {},
     "source": [
      "## 5. Choosing the Best Model\n",
      "\n",
      "- Based on the experiments you performed earlier, in 1-2 paragraphs explain to the board of supervisors what single model you chose as the best model. Which model is generally the most appropriate based on the available data, limited resources, cost, and performance?\n",
      "    * Given that for each model the training and predicting times are exceedingly low, combined with the fact that you would not need to run this model dynamically, multiple times a day or week, it is most appropriate to go with the model that has the best F1 score. The best performing algorithm here is the Support Vector Classifier, and it is the algorithm I have chosen to tune for the final model. However, if you intended to run this model more dynamically, it performs almost the same on 200 observations as it does on 300 observations when considering the F<sub>1</sub> score.\n",
      "\n",
      "- In 1-2 paragraphs explain to the board of supervisors in layman's terms how the final model chosen is supposed to work (for example if you chose a Decision Tree or Support Vector Machine, how does it make a prediction).\n",
      "    * The goal of the SVM is to find a hyperplane that separates and is farthest away from the opposing classes. Simplu put, if two classes in two dimensions are able to be divided by drawing a line between them, then a SVM will find that line. However, what makes this line special is that the line maximizes the normal distance between itself and any of the points. In addition, if the classes cannot be separated by a line because of exceptional observations, the SVM will allow these cases and still find a line that best separates most of the classes. In this scenario, we must remember that the algorithm is subject to the quality of our data and will try to find the most robust hyperplane that will work to separate most of the data.\n",
      "    * If the boundary that separates the data is non-linear, meaning in cannot be separated by simply drawing a line or inserting a flat plane between the two classes, then an SVM can use a kernel function to transform the data into new features that are able to be well-separated by a line.\n",
      "\n",
      "- Fine-tune the model. Use Gridsearch with at least one important parameter tuned and with at least 3 settings. Use the entire training set for this."
     ]
    },
    {
     "cell_type": "code",
     "collapsed": true,
     "input": [
      "# TODO: Fine-tune your model and report the best F1 score\n",
      "parameters = {'kernel':('linear', 'rbf', 'poly'), \"C\":[1.,5.,10.,20.], 'degree':[3,4,5,6]}\n",
      "f1_scorer = metrics.make_scorer(metrics.f1_score, pos_label='yes')\n",
      "svc = SVC()\n",
      "clf = grid_search.GridSearchCV(estimator=svc, param_grid = parameters, scoring = f1_scorer)\n",
      "train_time, pred_test_time, train_f1_score, test_f1_score = \\\n",
      "train_predict(clf, X_train, y_train, X_test, y_test)"
     ],
     "language": "python",
     "metadata": {},
     "outputs": [
      {
       "output_type": "stream",
       "stream": "stdout",
       "text": [
        "------------------------------------------\n",
        "Training set size: 300\n",
        "Training GridSearchCV...\n",
        "Done!\n",
        "Training time (secs): 69.995"
       ]
      },
      {
       "output_type": "stream",
       "stream": "stdout",
       "text": [
        "\n",
        "Predicting labels using GridSearchCV...\n",
        "Done!\n",
        "Prediction time (secs): 0.027\n",
        "F1 score for training set: 0.868965517241\n",
        "Predicting labels using GridSearchCV...\n",
        "Done!\n",
        "Prediction time (secs): 0.003\n",
        "F1 score for test set: 0.844720496894\n"
       ]
      }
     ],
     "prompt_number": 330
    },
    {
     "cell_type": "code",
     "collapsed": false,
     "input": [
      "clf.best_estimator_"
     ],
     "language": "python",
     "metadata": {},
     "outputs": [
      {
       "metadata": {},
       "output_type": "pyout",
       "prompt_number": 331,
       "text": [
        "SVC(C=1.0, cache_size=200, class_weight=None, coef0=0.0,\n",
        "  decision_function_shape=None, degree=3, gamma='auto', kernel='rbf',\n",
        "  max_iter=-1, probability=False, random_state=None, shrinking=True,\n",
        "  tol=0.001, verbose=False)"
       ]
      }
     ],
     "prompt_number": 331
    },
    {
     "cell_type": "markdown",
     "metadata": {},
     "source": [
      "#### What is the model's final F<sub>1</sub> score?"
     ]
    },
    {
     "cell_type": "code",
     "collapsed": false,
     "input": [
      "test_f1_score"
     ],
     "language": "python",
     "metadata": {},
     "outputs": [
      {
       "metadata": {},
       "output_type": "pyout",
       "prompt_number": 332,
       "text": [
        "0.84472049689440998"
       ]
      }
     ],
     "prompt_number": 332
    },
    {
     "cell_type": "code",
     "collapsed": false,
     "input": [],
     "language": "python",
     "metadata": {},
     "outputs": []
    }
   ],
   "metadata": {}
  }
 ]
}