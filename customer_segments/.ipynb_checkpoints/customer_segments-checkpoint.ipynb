{
 "cells": [
  {
   "cell_type": "markdown",
   "metadata": {},
   "source": [
    "# Creating Customer Segments"
   ]
  },
  {
   "cell_type": "markdown",
   "metadata": {},
   "source": [
    "In this project you, will analyze a dataset containing annual spending amounts for internal structure, to understand the variation in the different types of customers that a wholesale distributor interacts with.\n",
    "\n",
    "Instructions:\n",
    "\n",
    "- Run each code block below by pressing **Shift+Enter**, making sure to implement any steps marked with a TODO.\n",
    "- Answer each question in the space provided by editing the blocks labeled \"Answer:\".\n",
    "- When you are done, submit the completed notebook (.ipynb) with all code blocks executed, as well as a .pdf version (File > Download as)."
   ]
  },
  {
   "cell_type": "code",
   "execution_count": 1,
   "metadata": {
    "collapsed": false
   },
   "outputs": [
    {
     "name": "stdout",
     "output_type": "stream",
     "text": [
      "Dataset has 440 rows, 6 columns\n",
      "   Fresh  Milk  Grocery  Frozen  Detergents_Paper  Delicatessen\n",
      "0  12669  9656     7561     214              2674          1338\n",
      "1   7057  9810     9568    1762              3293          1776\n",
      "2   6353  8808     7684    2405              3516          7844\n",
      "3  13265  1196     4221    6404               507          1788\n",
      "4  22615  5410     7198    3915              1777          5185\n"
     ]
    },
    {
     "name": "stderr",
     "output_type": "stream",
     "text": [
      "/Users/seanhegarty/Library/Enthought/Canopy_64bit/User/lib/python2.7/site-packages/matplotlib/font_manager.py:273: UserWarning: Matplotlib is building the font cache using fc-list. This may take a moment.\n",
      "  warnings.warn('Matplotlib is building the font cache using fc-list. This may take a moment.')\n"
     ]
    }
   ],
   "source": [
    "# Import libraries: NumPy, pandas, matplotlib\n",
    "import numpy as np\n",
    "import pandas as pd\n",
    "import matplotlib.pyplot as plt\n",
    "\n",
    "# Tell iPython to include plots inline in the notebook\n",
    "%matplotlib inline\n",
    "\n",
    "# Read dataset\n",
    "data = pd.read_csv(\"wholesale-customers.csv\")\n",
    "print \"Dataset has {} rows, {} columns\".format(*data.shape)\n",
    "print data.head()  # print the first 5 rows"
   ]
  },
  {
   "cell_type": "markdown",
   "metadata": {},
   "source": [
    "## Feature Transformation"
   ]
  },
  {
   "cell_type": "markdown",
   "metadata": {},
   "source": [
    "**1)** In this section you will be using PCA and ICA to start to understand the structure of the data. Before doing any computations, what do you think will show up in your computations? List one or two ideas for what might show up as the first PCA dimensions, or what type of vectors will show up as ICA dimensions."
   ]
  },
  {
   "cell_type": "markdown",
   "metadata": {},
   "source": [
    "Answer: \n",
    "I expect that PCA will find its first dimensions within the fresh/ perishable items (Fresh, Milk, Grocery), given they have a standard deviation roughly double the three other items in the list. Seeing as all the columns are measured in the same units, normalizing the columns is not completely necessary. I expect not normalizing the data to further enforce the correlation between the strength of \n",
    "This makes sense to me because smaller stores would have a problem with selling perishable products in bulk.\n",
    "\n",
    "ICA, on the other hand, I would expect to report two transformations representing different types of products, if it is told to find two signals. For example, maybe the Milk and the Groceries are bought in more similar frequencies compared to items like Detergent and Frozen items. One reason for this might be the rate at which people consume items like milk and groceries that have experation dates on the order of days and weeks, while Detergent and Frozen items can last for months or more."
   ]
  },
  {
   "cell_type": "code",
   "execution_count": 182,
   "metadata": {
    "collapsed": false
   },
   "outputs": [
    {
     "data": {
      "image/png": "[encoded data removed]",
      "text/plain": [
       "<matplotlib.figure.Figure at 0x114020450>"
      ]
     },
     "metadata": {},
     "output_type": "display_data"
    }
   ],
   "source": [
    "plt.scatter(data['Fresh'],data['Grocery'])\n",
    "plt.title(\"Fresh vs Grocery\")\n",
    "plt.xlabel(\"Fresh\")\n",
    "plt.ylabel(\"Grocery\")\n",
    "plt.ylim([0,100000])\n",
    "plt.xlim([0,120000])\n",
    "plt.show()"
   ]
  },
  {
   "cell_type": "markdown",
   "metadata": {},
   "source": [
    "### PCA"
   ]
  },
  {
   "cell_type": "code",
   "execution_count": 360,
   "metadata": {
    "collapsed": false
   },
   "outputs": [
    {
     "name": "stdout",
     "output_type": "stream",
     "text": [
      "      Fresh      Milk   Grocery    Frozen  Detergents_Paper  Delicatessen\n",
      "0 -0.976537 -0.121184 -0.061540 -0.152365          0.007054     -0.068105\n",
      "1 -0.110614  0.515802  0.764606 -0.018723          0.365351      0.057079\n",
      "2 -0.178557  0.509887 -0.275781  0.714200         -0.204410      0.283217\n",
      "3 -0.041876 -0.645640  0.375460  0.646292          0.149380     -0.020396\n",
      "4  0.015986  0.203236 -0.160292  0.220186          0.207930     -0.917077\n",
      "5 -0.015763  0.033492  0.410939 -0.013289         -0.871284     -0.265417\n",
      "0.934815965411\n"
     ]
    }
   ],
   "source": [
    "# TODO: Apply PCA with the same number of dimensions as variables in the dataset\n",
    "from sklearn.decomposition import PCA\n",
    "pca = PCA(n_components=6)\n",
    "pca.fit(data).transform(data)\n",
    "# Print the components and the amount of variance in the data contained in each dimension\n",
    "components = pd.DataFrame(pca.components_)\n",
    "components.columns = [\"Fresh\", \"Milk\", \"Grocery\", \"Frozen\", \"Detergents_Paper\", \"Delicatessen\"]\n",
    "print components\n",
    "print pca.explained_variance_ratio_"
   ]
  },
  {
   "cell_type": "markdown",
   "metadata": {},
   "source": [
    "**2)** How quickly does the variance drop off by dimension? If you were to use PCA on this dataset, how many dimensions would you choose for your analysis? Why?"
   ]
  },
  {
   "cell_type": "markdown",
   "metadata": {
    "collapsed": true
   },
   "source": [
    "Answer: \n",
    "\n",
    "The variance drops off fairly quickly as the principle component number increases. It would appear that most of the variance, as expected, comes from the features with the highest initial standard deviation.\n",
    "\n",
    "Without having a supervised learning problem to determine the effectiveness of the PCA dimensions, I would probably got with a rule of thumb that I have come across on multiple sources that say to use enough dimensions to explain roughly 95% of the variance to limit the information loss. Seeing as using the first three PCA dimensions would be 93.5% of the original variance, there is not a significant amount more information to be gained from more dimensions."
   ]
  },
  {
   "cell_type": "markdown",
   "metadata": {},
   "source": [
    "**3)** What do the dimensions seem to represent? How can you use this information?"
   ]
  },
  {
   "cell_type": "markdown",
   "metadata": {
    "collapsed": true
   },
   "source": [
    "Answer: \n",
    "\n",
    "The first dimension mainly represents the purchases of _Fresh_ products, whereas the second dimension represents the _Groceries_, _Milk_, and _Detergents_\\__Paper_.  This information indicates that these are products that differ largely in purchasing patterns between large and small customers. The wholesale supplier might be able to continue using a bulk delivery for the items with smaller variance while retaining smaller customers by continuing the daily deliveries. "
   ]
  },
  {
   "cell_type": "code",
   "execution_count": 365,
   "metadata": {
    "collapsed": false
   },
   "outputs": [
    {
     "data": {
      "image/png": "[encoded data removed]",
      "text/plain": [
       "<matplotlib.figure.Figure at 0x1154eb550>"
      ]
     },
     "metadata": {},
     "output_type": "display_data"
    }
   ],
   "source": [
    "#Plot Two dimensions of the data\n",
    "def plot_samples(S, pca, n_comps=2):\n",
    "    plt.scatter(S['Fresh'], S['Milk'], s=2, marker='o', zorder=10,\n",
    "                color='steelblue', alpha=0.5)\n",
    "    plt.hlines(0, -3, 3)\n",
    "    plt.vlines(0, -3, 3)\n",
    "    plt.xlim(-3, 3)\n",
    "    plt.ylim(-3, 3)\n",
    "    plt.xlabel('Fresh')\n",
    "    plt.ylabel('Milk')\n",
    "    #Plot Principal Component vectors\n",
    "    pca_comps = []\n",
    "    pca_dim = []\n",
    "    for i in range(n_comps):\n",
    "        pca_comps.append( \n",
    "            plt.arrow(0,0,pca.components_.T[i][0],pca.components_.T[i][1],\n",
    "                      head_width=0.05, head_length=0.1, fc='k', ec='k')\n",
    "            )\n",
    "        pca_dim.append(\"PCA {}\".format(i+1))\n",
    "    plt.legend(pca_comps,pca_dim)\n",
    "ax = plot_samples((data-np.mean(data))/np.std(data), pca, n_comps=2)\n",
    "\n",
    "plt.show()"
   ]
  },
  {
   "cell_type": "markdown",
   "metadata": {},
   "source": [
    "### ICA"
   ]
  },
  {
   "cell_type": "code",
   "execution_count": 362,
   "metadata": {
    "collapsed": false
   },
   "outputs": [
    {
     "name": "stdout",
     "output_type": "stream",
     "text": [
      "       Fresh       Milk    Grocery     Frozen  Detergents_Paper  Delicatessen\n",
      "0   2.943383   8.581862   2.014258   6.872764         -0.906468     20.437553\n",
      "1 -20.694793  -0.766649   0.986095  -4.910462          2.505549     -2.067553\n",
      "2  -0.463758 -16.726952 -20.183838   0.578851        -20.076084     -2.043857\n",
      "3   1.585272   0.228237  -0.823184  19.188865         -1.522040      1.117699\n"
     ]
    }
   ],
   "source": [
    "# TODO: Fit an ICA model to the data\n",
    "# Note: Adjust the data to have center at the origin first!\n",
    "from sklearn.decomposition import FastICA\n",
    "ica = FastICA(n_components=4)\n",
    "ica.fit_transform( (data - np.mean(data))/ np.std(data) )\n",
    "\n",
    "# Print the independent components\n",
    "ica_comps = pd.DataFrame(ica.mixing_.T)\n",
    "ica_comps.columns = ['Fresh', 'Milk', 'Grocery', 'Frozen', 'Detergents_Paper', 'Delicatessen']\n",
    "print (ica_comps)"
   ]
  },
  {
   "cell_type": "markdown",
   "metadata": {},
   "source": [
    "**4)** For each vector in the ICA decomposition, write a sentence or two explaining what sort of object or property it corresponds to. What could these components be used for?"
   ]
  },
  {
   "cell_type": "markdown",
   "metadata": {
    "collapsed": true
   },
   "source": [
    "Answer:\n",
    "\n",
    "It appears from the mixing matrix vectors shown transposed above that while _Fresh_ products, _Frozen_ products, and _Delicatessen_ products all seem to run independently of one another, _Milk_, _Grocery_, and _Detergents_\\__Paper_ share similar transformations from the original data in sign and magnitude.\n",
    "\n",
    "The 0th component correlates very highly with _Delicatessen_ followed by _Milk_. These products tend to have close expiration dates compared to almost all other products, which could mean that it represents a trend of purchasing patterns that are products purchased in short periods.\n",
    "\n",
    "The 1st component is highly negatively correlated with _Fresh_ products. It is weakly correlated with all other features. This could suggest that the _Fresh_ products are often bought in trends that run against the trends of buying all other products. In other words, customers that buy mostly fresh products tend to stray away from purchasing many other type of product.\n",
    "\n",
    "The 2nd component strongly negatively correlates with _Milk_, _Grocery_, and _Detergents_\\__Paper_ products. This component could be representative of products that are bought more often by families, whether they be at a smaller or larger supplier.\n",
    "\n",
    "The 3rd component very strongly correlates with _Frozen_ items. This component seems to deal solely with the trends set by the purchases of _Frozen_ food."
   ]
  },
  {
   "cell_type": "markdown",
   "metadata": {},
   "source": [
    "## Clustering\n",
    "\n",
    "In this section you will choose either K Means clustering or Gaussian Mixed Models clustering, which implements expectation-maximization. Then you will sample elements from the clusters to understand their significance."
   ]
  },
  {
   "cell_type": "markdown",
   "metadata": {},
   "source": [
    "### Choose a Cluster Type\n",
    "\n",
    "**5)** What are the advantages of using K Means clustering or Gaussian Mixture Models?"
   ]
  },
  {
   "cell_type": "markdown",
   "metadata": {},
   "source": [
    "Answer: \n",
    "\n",
    "Clustering algorithms will allow segmentation of the data. The interpretation is pretty straight forward in that it separates the points based on their distance to a given amount of points. Specifically, if some points are closer to marker A and farther from marker B, then they will be in cluster A as all those points are similar to each other, as determined by a distance metric."
   ]
  },
  {
   "cell_type": "markdown",
   "metadata": {},
   "source": [
    "**6)** Below is some starter code to help you visualize some cluster data. The visualization is based on [this demo](http://scikit-learn.org/stable/auto_examples/cluster/plot_kmeans_digits.html) from the sklearn documentation."
   ]
  },
  {
   "cell_type": "code",
   "execution_count": 368,
   "metadata": {
    "collapsed": true
   },
   "outputs": [],
   "source": [
    "# Import clustering modules\n",
    "from sklearn.cluster import KMeans\n",
    "from sklearn.mixture import GMM"
   ]
  },
  {
   "cell_type": "code",
   "execution_count": 435,
   "metadata": {
    "collapsed": false
   },
   "outputs": [
    {
     "name": "stdout",
     "output_type": "stream",
     "text": [
      "[[ 0.04641823 -0.11322229]\n",
      " [-0.31611919 -0.28867242]\n",
      " [-0.34576827 -0.18415002]\n",
      " [ 0.07072087  0.44844243]\n",
      " [ 0.76109021  0.15422653]\n",
      " [-0.19751797  0.0685446 ]\n",
      " [-0.05109766  0.14374897]\n",
      " [-0.31953108 -0.10208072]\n",
      " [-0.47931232  0.15752449]\n",
      " [-0.34445687 -0.96264992]]\n"
     ]
    }
   ],
   "source": [
    "# TODO: First we reduce the data to two dimensions using PCA to capture variation\n",
    "pca = PCA(n_components=2)\n",
    "reduced_data =  pca.fit_transform(data)\n",
    "reduced_data /= np.max(reduced_data.min(axis=0))\n",
    "#reduced_data += np.abs(reduced_data.min(axis=0))\n",
    "#reduced_data = np.log(reduced_data)\n",
    "print reduced_data[:10]# print upto 10 elements"
   ]
  },
  {
   "cell_type": "code",
   "execution_count": 436,
   "metadata": {
    "collapsed": false
   },
   "outputs": [
    {
     "name": "stdout",
     "output_type": "stream",
     "text": [
      "KMeans(copy_x=True, init='k-means++', max_iter=300, n_clusters=5, n_init=20,\n",
      "    n_jobs=1, precompute_distances='auto', random_state=None, tol=0.0001,\n",
      "    verbose=0)\n"
     ]
    }
   ],
   "source": [
    "# TODO: Implement your clustering algorithm here, and fit it to the reduced data for visualization\n",
    "# The visualizer below assumes your clustering object is named 'clusters'\n",
    "clf = KMeans(n_clusters=5, n_init=20)\n",
    "#clf = GMM(3)\n",
    "clusters = clf.fit( reduced_data )\n",
    "print clusters"
   ]
  },
  {
   "cell_type": "code",
   "execution_count": 437,
   "metadata": {
    "collapsed": false
   },
   "outputs": [],
   "source": [
    "# Plot the decision boundary by building a mesh grid to populate a graph.\n",
    "x_min, x_max = reduced_data[:, 0].min() - 1, reduced_data[:, 0].max() + 1\n",
    "y_min, y_max = reduced_data[:, 1].min() - 1, reduced_data[:, 1].max() + 1\n",
    "hx = (x_max-x_min)/1000.\n",
    "hy = (y_max-y_min)/1000.\n",
    "xx, yy = np.meshgrid(np.arange(x_min, x_max, hx), np.arange(y_min, y_max, hy))\n",
    "\n",
    "# Obtain labels for each point in mesh. Use last trained model.\n",
    "Z = clusters.predict(np.c_[xx.ravel(), yy.ravel()])"
   ]
  },
  {
   "cell_type": "code",
   "execution_count": 438,
   "metadata": {
    "collapsed": false
   },
   "outputs": [
    {
     "name": "stdout",
     "output_type": "stream",
     "text": [
      "[[-0.45700493  0.29773048]\n",
      " [ 0.64643399  0.34338034]\n",
      " [ 1.03814186 -4.40713063]\n",
      " [ 2.69249736  0.39192466]\n",
      " [-0.40046268 -1.01396683]]\n"
     ]
    }
   ],
   "source": [
    "# TODO: Find the centroids for KMeans or the cluster means for GMM \n",
    "\n",
    "centroids = clusters.cluster_centers_\n",
    "print centroids"
   ]
  },
  {
   "cell_type": "code",
   "execution_count": 439,
   "metadata": {
    "collapsed": false
   },
   "outputs": [
    {
     "data": {
      "image/png": "[encoded data removed]",
      "text/plain": [
       "<matplotlib.figure.Figure at 0x1152474d0>"
      ]
     },
     "metadata": {},
     "output_type": "display_data"
    }
   ],
   "source": [
    "# Put the result into a color plot\n",
    "Z = Z.reshape(xx.shape)\n",
    "plt.figure(1)\n",
    "plt.clf()\n",
    "plt.imshow(Z, interpolation='nearest',\n",
    "           extent=(xx.min(), xx.max(), yy.min(), yy.max()),\n",
    "           cmap=plt.cm.Paired,\n",
    "           aspect='auto', origin='lower')\n",
    "\n",
    "plt.plot(reduced_data[:, 0], reduced_data[:, 1], 'k.', markersize=2)\n",
    "plt.scatter(centroids[:, 0], centroids[:, 1],\n",
    "            marker='x', s=169, linewidths=3,\n",
    "            color='w', zorder=10)\n",
    "plt.title('Clustering on the wholesale grocery dataset (PCA-reduced data)\\n'\n",
    "          'Centroids are marked with white cross')\n",
    "plt.xlim(x_min, x_max)\n",
    "plt.ylim(y_min, y_max)\n",
    "plt.xticks(())\n",
    "plt.yticks(())\n",
    "plt.show()"
   ]
  },
  {
   "cell_type": "markdown",
   "metadata": {},
   "source": [
    "**7)** What are the central objects in each cluster? Describe them as customers."
   ]
  },
  {
   "cell_type": "markdown",
   "metadata": {
    "collapsed": true
   },
   "source": [
    "Answer: \n",
    "\n",
    "It is first important to understand the dimensions of the graph shown above. The X-axis, as discussed in the PCA section, is largely representative of the _Fresh_ products purchased by the customers, while the Y-axis is largely represented by _Milk_, _Groceries_, and _Detergent_\\__Paper_ products purchased by the customers.\n",
    "\n",
    "Mathematically, each central point represents the average location of all points classified to that dimension. Conceptually, the central objects are the clustering algorithm's representation of a typical customer in that cluster, or group, according to the above two dimensions. The clusters, shown based on the 2-dimensional representation provided by PCA, are inclusive of all customers similar in purchasing patterns discussed in the previous paragraph."
   ]
  },
  {
   "cell_type": "markdown",
   "metadata": {},
   "source": [
    "### Conclusions\n",
    "\n",
    "** 8)** Which of these techniques did you feel gave you the most insight into the data?"
   ]
  },
  {
   "cell_type": "markdown",
   "metadata": {
    "collapsed": true
   },
   "source": [
    "Answer: \n",
    "\n",
    "Given that PCA was able to reveal what products might be of more concern to the supplier by indicating each products' contribution to the first, second, and third principal components, I would have to say that PCA has a good start. In addition, PCA offered a 2-dimensional representation that could be used for visualization in later clustering. Visualizations are always easier to interpret and better for presentation to a non-technical audience.\n",
    "\n",
    "On the other hand, clustering offers simpler, more easily interpreted lables. If over this threshold, this is a **large customer**, and vice versa. This information is clearly actionable, especially after PCA covers the preprocessing step. Clustering, using K-Means, gives the most insight into this data because it offers clear A/B distinctions for future experiments."
   ]
  },
  {
   "cell_type": "markdown",
   "metadata": {
    "collapsed": true
   },
   "source": [
    "**9)** How would you use that technique to help the company design new experiments?"
   ]
  },
  {
   "cell_type": "markdown",
   "metadata": {},
   "source": [
    "Answer: \n",
    "\n",
    "Using the cluster labels, I would design different experiments based on either of the two individual segments rather than grouping them as having the same needs. This way the results of an experiment would be more specified."
   ]
  },
  {
   "cell_type": "markdown",
   "metadata": {},
   "source": [
    "**10)** How would you use that data to help you predict future customer needs?"
   ]
  },
  {
   "cell_type": "markdown",
   "metadata": {},
   "source": [
    "Answer: \n",
    "\n",
    "The data could be used to build regressions based on customer size, that would predict how much a customer of a certain size might be expected to purchase of a particular product in the future. This will work more accurately when the customers are segmented, because customers of different sizes could skew the results of a regression downward or upward."
   ]
  },
  {
   "cell_type": "code",
   "execution_count": null,
   "metadata": {
    "collapsed": true
   },
   "outputs": [],
   "source": []
  }
 ],
 "metadata": {
  "kernelspec": {
   "display_name": "Python 2",
   "language": "python",
   "name": "python2"
  },
  "language_info": {
   "codemirror_mode": {
    "name": "ipython",
    "version": 2
   },
   "file_extension": ".py",
   "mimetype": "text/x-python",
   "name": "python",
   "nbconvert_exporter": "python",
   "pygments_lexer": "ipython2",
   "version": "2.7.9"
  }
 },
 "nbformat": 4,
 "nbformat_minor": 0
}
